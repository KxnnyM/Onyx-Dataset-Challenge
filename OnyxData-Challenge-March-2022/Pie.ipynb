{
 "cells": [
  {
   "cell_type": "markdown",
   "id": "ab7773f6",
   "metadata": {},
   "source": [
    "# Onyx Dataset challenge (March 2022)"
   ]
  },
  {
   "cell_type": "markdown",
   "id": "2beb050a",
   "metadata": {},
   "source": [
    "## Problem statement:\n",
    "### Help Pie Bakery to improve their business by gathering insights from the last two years of pie sales!"
   ]
  },
  {
   "cell_type": "markdown",
   "id": "cc2fcd71",
   "metadata": {},
   "source": [
    "# Import all the required libraries"
   ]
  },
  {
   "cell_type": "code",
   "execution_count": 1,
   "id": "05fd0cec",
   "metadata": {},
   "outputs": [],
   "source": [
    "import pandas as pd\n",
    "import numpy as np\n",
    "import matplotlib.pyplot as plt\n",
    "import seaborn as sns"
   ]
  },
  {
   "cell_type": "markdown",
   "id": "f8d1631e",
   "metadata": {},
   "source": [
    "# Loading the dataset"
   ]
  },
  {
   "cell_type": "code",
   "execution_count": 2,
   "id": "e667d91b",
   "metadata": {
    "scrolled": false
   },
   "outputs": [
    {
     "data": {
      "text/html": [
       "<div>\n",
       "<style scoped>\n",
       "    .dataframe tbody tr th:only-of-type {\n",
       "        vertical-align: middle;\n",
       "    }\n",
       "\n",
       "    .dataframe tbody tr th {\n",
       "        vertical-align: top;\n",
       "    }\n",
       "\n",
       "    .dataframe thead th {\n",
       "        text-align: right;\n",
       "    }\n",
       "</style>\n",
       "<table border=\"1\" class=\"dataframe\">\n",
       "  <thead>\n",
       "    <tr style=\"text-align: right;\">\n",
       "      <th></th>\n",
       "      <th>Order NO</th>\n",
       "      <th>Order Date</th>\n",
       "      <th>Month/Yr</th>\n",
       "      <th>Day of Week</th>\n",
       "      <th>Pie Flavor</th>\n",
       "      <th>Quantity</th>\n",
       "      <th>Cost</th>\n",
       "      <th>Slice Or Whole Pie</th>\n",
       "      <th>Pre-Order/In-Store Purchase</th>\n",
       "      <th>Organic?</th>\n",
       "    </tr>\n",
       "  </thead>\n",
       "  <tbody>\n",
       "    <tr>\n",
       "      <th>0</th>\n",
       "      <td>10001</td>\n",
       "      <td>2019-12-19</td>\n",
       "      <td>2019-12-01</td>\n",
       "      <td>Thursday</td>\n",
       "      <td>Apple</td>\n",
       "      <td>5</td>\n",
       "      <td>12.5</td>\n",
       "      <td>Slice</td>\n",
       "      <td>Pre-Order</td>\n",
       "      <td>No</td>\n",
       "    </tr>\n",
       "    <tr>\n",
       "      <th>1</th>\n",
       "      <td>10002</td>\n",
       "      <td>2019-12-19</td>\n",
       "      <td>2019-12-01</td>\n",
       "      <td>Thursday</td>\n",
       "      <td>Apple</td>\n",
       "      <td>3</td>\n",
       "      <td>60.0</td>\n",
       "      <td>Whole</td>\n",
       "      <td>In-Store</td>\n",
       "      <td>Yes</td>\n",
       "    </tr>\n",
       "    <tr>\n",
       "      <th>2</th>\n",
       "      <td>10003</td>\n",
       "      <td>2019-12-19</td>\n",
       "      <td>2019-12-01</td>\n",
       "      <td>Thursday</td>\n",
       "      <td>Apple</td>\n",
       "      <td>3</td>\n",
       "      <td>60.0</td>\n",
       "      <td>Whole</td>\n",
       "      <td>In-Store</td>\n",
       "      <td>No</td>\n",
       "    </tr>\n",
       "    <tr>\n",
       "      <th>3</th>\n",
       "      <td>10004</td>\n",
       "      <td>2019-12-19</td>\n",
       "      <td>2019-12-01</td>\n",
       "      <td>Thursday</td>\n",
       "      <td>Apple</td>\n",
       "      <td>4</td>\n",
       "      <td>80.0</td>\n",
       "      <td>Whole</td>\n",
       "      <td>Pre-Order</td>\n",
       "      <td>No</td>\n",
       "    </tr>\n",
       "    <tr>\n",
       "      <th>4</th>\n",
       "      <td>10005</td>\n",
       "      <td>2019-12-19</td>\n",
       "      <td>2019-12-01</td>\n",
       "      <td>Thursday</td>\n",
       "      <td>Apple</td>\n",
       "      <td>2</td>\n",
       "      <td>40.0</td>\n",
       "      <td>Whole</td>\n",
       "      <td>In-Store</td>\n",
       "      <td>No</td>\n",
       "    </tr>\n",
       "    <tr>\n",
       "      <th>...</th>\n",
       "      <td>...</td>\n",
       "      <td>...</td>\n",
       "      <td>...</td>\n",
       "      <td>...</td>\n",
       "      <td>...</td>\n",
       "      <td>...</td>\n",
       "      <td>...</td>\n",
       "      <td>...</td>\n",
       "      <td>...</td>\n",
       "      <td>...</td>\n",
       "    </tr>\n",
       "    <tr>\n",
       "      <th>2768</th>\n",
       "      <td>12769</td>\n",
       "      <td>2021-03-27</td>\n",
       "      <td>2021-03-01</td>\n",
       "      <td>Saturday</td>\n",
       "      <td>Strawberry Rhubarb</td>\n",
       "      <td>3</td>\n",
       "      <td>60.0</td>\n",
       "      <td>Whole</td>\n",
       "      <td>Pre-Order</td>\n",
       "      <td>Yes</td>\n",
       "    </tr>\n",
       "    <tr>\n",
       "      <th>2769</th>\n",
       "      <td>12770</td>\n",
       "      <td>2021-03-27</td>\n",
       "      <td>2021-03-01</td>\n",
       "      <td>Saturday</td>\n",
       "      <td>Cherry</td>\n",
       "      <td>1</td>\n",
       "      <td>20.0</td>\n",
       "      <td>Whole</td>\n",
       "      <td>In-Store</td>\n",
       "      <td>Yes</td>\n",
       "    </tr>\n",
       "    <tr>\n",
       "      <th>2770</th>\n",
       "      <td>12771</td>\n",
       "      <td>2021-03-27</td>\n",
       "      <td>2021-03-01</td>\n",
       "      <td>Saturday</td>\n",
       "      <td>Strawberry Rhubarb</td>\n",
       "      <td>4</td>\n",
       "      <td>10.0</td>\n",
       "      <td>Slice</td>\n",
       "      <td>In-Store</td>\n",
       "      <td>Yes</td>\n",
       "    </tr>\n",
       "    <tr>\n",
       "      <th>2771</th>\n",
       "      <td>12772</td>\n",
       "      <td>2021-03-27</td>\n",
       "      <td>2021-03-01</td>\n",
       "      <td>Saturday</td>\n",
       "      <td>Cherry</td>\n",
       "      <td>3</td>\n",
       "      <td>60.0</td>\n",
       "      <td>Whole</td>\n",
       "      <td>Pre-Order</td>\n",
       "      <td>Yes</td>\n",
       "    </tr>\n",
       "    <tr>\n",
       "      <th>2772</th>\n",
       "      <td>12773</td>\n",
       "      <td>2021-03-27</td>\n",
       "      <td>2021-03-01</td>\n",
       "      <td>Saturday</td>\n",
       "      <td>Cherry</td>\n",
       "      <td>5</td>\n",
       "      <td>100.0</td>\n",
       "      <td>Whole</td>\n",
       "      <td>In-Store</td>\n",
       "      <td>Yes</td>\n",
       "    </tr>\n",
       "  </tbody>\n",
       "</table>\n",
       "<p>2773 rows × 10 columns</p>\n",
       "</div>"
      ],
      "text/plain": [
       "      Order NO Order Date   Month/Yr Day of Week          Pie Flavor  \\\n",
       "0        10001 2019-12-19 2019-12-01    Thursday               Apple   \n",
       "1        10002 2019-12-19 2019-12-01    Thursday               Apple   \n",
       "2        10003 2019-12-19 2019-12-01    Thursday               Apple   \n",
       "3        10004 2019-12-19 2019-12-01    Thursday               Apple   \n",
       "4        10005 2019-12-19 2019-12-01    Thursday               Apple   \n",
       "...        ...        ...        ...         ...                 ...   \n",
       "2768     12769 2021-03-27 2021-03-01    Saturday  Strawberry Rhubarb   \n",
       "2769     12770 2021-03-27 2021-03-01    Saturday              Cherry   \n",
       "2770     12771 2021-03-27 2021-03-01    Saturday  Strawberry Rhubarb   \n",
       "2771     12772 2021-03-27 2021-03-01    Saturday              Cherry   \n",
       "2772     12773 2021-03-27 2021-03-01    Saturday              Cherry   \n",
       "\n",
       "      Quantity   Cost Slice Or Whole Pie Pre-Order/In-Store Purchase Organic?  \n",
       "0            5   12.5              Slice                   Pre-Order       No  \n",
       "1            3   60.0              Whole                    In-Store      Yes  \n",
       "2            3   60.0              Whole                    In-Store       No  \n",
       "3            4   80.0              Whole                   Pre-Order       No  \n",
       "4            2   40.0              Whole                    In-Store       No  \n",
       "...        ...    ...                ...                         ...      ...  \n",
       "2768         3   60.0              Whole                   Pre-Order      Yes  \n",
       "2769         1   20.0              Whole                    In-Store      Yes  \n",
       "2770         4   10.0              Slice                    In-Store      Yes  \n",
       "2771         3   60.0              Whole                   Pre-Order      Yes  \n",
       "2772         5  100.0              Whole                    In-Store      Yes  \n",
       "\n",
       "[2773 rows x 10 columns]"
      ]
     },
     "execution_count": 2,
     "metadata": {},
     "output_type": "execute_result"
    }
   ],
   "source": [
    "df=pd.read_excel(\"Onyx Data - DataDNA Dataset Challenge - March 2022 - Pi Day Pie Data.xlsx\")\n",
    "df"
   ]
  },
  {
   "cell_type": "markdown",
   "id": "8c072e3a",
   "metadata": {},
   "source": [
    "# EDA"
   ]
  },
  {
   "cell_type": "code",
   "execution_count": 3,
   "id": "33be4c9a",
   "metadata": {},
   "outputs": [
    {
     "data": {
      "text/html": [
       "<div>\n",
       "<style scoped>\n",
       "    .dataframe tbody tr th:only-of-type {\n",
       "        vertical-align: middle;\n",
       "    }\n",
       "\n",
       "    .dataframe tbody tr th {\n",
       "        vertical-align: top;\n",
       "    }\n",
       "\n",
       "    .dataframe thead th {\n",
       "        text-align: right;\n",
       "    }\n",
       "</style>\n",
       "<table border=\"1\" class=\"dataframe\">\n",
       "  <thead>\n",
       "    <tr style=\"text-align: right;\">\n",
       "      <th></th>\n",
       "      <th>Order NO</th>\n",
       "      <th>Order Date</th>\n",
       "      <th>Month/Yr</th>\n",
       "      <th>Day of Week</th>\n",
       "      <th>Pie Flavor</th>\n",
       "      <th>Quantity</th>\n",
       "      <th>Cost</th>\n",
       "      <th>Slice Or Whole Pie</th>\n",
       "      <th>Pre-Order/In-Store Purchase</th>\n",
       "      <th>Organic?</th>\n",
       "    </tr>\n",
       "  </thead>\n",
       "  <tbody>\n",
       "    <tr>\n",
       "      <th>0</th>\n",
       "      <td>10001</td>\n",
       "      <td>2019-12-19</td>\n",
       "      <td>2019-12-01</td>\n",
       "      <td>Thursday</td>\n",
       "      <td>Apple</td>\n",
       "      <td>5</td>\n",
       "      <td>12.5</td>\n",
       "      <td>Slice</td>\n",
       "      <td>Pre-Order</td>\n",
       "      <td>No</td>\n",
       "    </tr>\n",
       "    <tr>\n",
       "      <th>1</th>\n",
       "      <td>10002</td>\n",
       "      <td>2019-12-19</td>\n",
       "      <td>2019-12-01</td>\n",
       "      <td>Thursday</td>\n",
       "      <td>Apple</td>\n",
       "      <td>3</td>\n",
       "      <td>60.0</td>\n",
       "      <td>Whole</td>\n",
       "      <td>In-Store</td>\n",
       "      <td>Yes</td>\n",
       "    </tr>\n",
       "    <tr>\n",
       "      <th>2</th>\n",
       "      <td>10003</td>\n",
       "      <td>2019-12-19</td>\n",
       "      <td>2019-12-01</td>\n",
       "      <td>Thursday</td>\n",
       "      <td>Apple</td>\n",
       "      <td>3</td>\n",
       "      <td>60.0</td>\n",
       "      <td>Whole</td>\n",
       "      <td>In-Store</td>\n",
       "      <td>No</td>\n",
       "    </tr>\n",
       "    <tr>\n",
       "      <th>3</th>\n",
       "      <td>10004</td>\n",
       "      <td>2019-12-19</td>\n",
       "      <td>2019-12-01</td>\n",
       "      <td>Thursday</td>\n",
       "      <td>Apple</td>\n",
       "      <td>4</td>\n",
       "      <td>80.0</td>\n",
       "      <td>Whole</td>\n",
       "      <td>Pre-Order</td>\n",
       "      <td>No</td>\n",
       "    </tr>\n",
       "    <tr>\n",
       "      <th>4</th>\n",
       "      <td>10005</td>\n",
       "      <td>2019-12-19</td>\n",
       "      <td>2019-12-01</td>\n",
       "      <td>Thursday</td>\n",
       "      <td>Apple</td>\n",
       "      <td>2</td>\n",
       "      <td>40.0</td>\n",
       "      <td>Whole</td>\n",
       "      <td>In-Store</td>\n",
       "      <td>No</td>\n",
       "    </tr>\n",
       "  </tbody>\n",
       "</table>\n",
       "</div>"
      ],
      "text/plain": [
       "   Order NO Order Date   Month/Yr Day of Week Pie Flavor  Quantity  Cost  \\\n",
       "0     10001 2019-12-19 2019-12-01    Thursday      Apple         5  12.5   \n",
       "1     10002 2019-12-19 2019-12-01    Thursday      Apple         3  60.0   \n",
       "2     10003 2019-12-19 2019-12-01    Thursday      Apple         3  60.0   \n",
       "3     10004 2019-12-19 2019-12-01    Thursday      Apple         4  80.0   \n",
       "4     10005 2019-12-19 2019-12-01    Thursday      Apple         2  40.0   \n",
       "\n",
       "  Slice Or Whole Pie Pre-Order/In-Store Purchase Organic?  \n",
       "0              Slice                   Pre-Order       No  \n",
       "1              Whole                    In-Store      Yes  \n",
       "2              Whole                    In-Store       No  \n",
       "3              Whole                   Pre-Order       No  \n",
       "4              Whole                    In-Store       No  "
      ]
     },
     "execution_count": 3,
     "metadata": {},
     "output_type": "execute_result"
    }
   ],
   "source": [
    "df.head()"
   ]
  },
  {
   "cell_type": "code",
   "execution_count": 4,
   "id": "c7fcac0d",
   "metadata": {},
   "outputs": [
    {
     "data": {
      "text/html": [
       "<div>\n",
       "<style scoped>\n",
       "    .dataframe tbody tr th:only-of-type {\n",
       "        vertical-align: middle;\n",
       "    }\n",
       "\n",
       "    .dataframe tbody tr th {\n",
       "        vertical-align: top;\n",
       "    }\n",
       "\n",
       "    .dataframe thead th {\n",
       "        text-align: right;\n",
       "    }\n",
       "</style>\n",
       "<table border=\"1\" class=\"dataframe\">\n",
       "  <thead>\n",
       "    <tr style=\"text-align: right;\">\n",
       "      <th></th>\n",
       "      <th>Order NO</th>\n",
       "      <th>Order Date</th>\n",
       "      <th>Month/Yr</th>\n",
       "      <th>Day of Week</th>\n",
       "      <th>Pie Flavor</th>\n",
       "      <th>Quantity</th>\n",
       "      <th>Cost</th>\n",
       "      <th>Slice Or Whole Pie</th>\n",
       "      <th>Pre-Order/In-Store Purchase</th>\n",
       "      <th>Organic?</th>\n",
       "    </tr>\n",
       "  </thead>\n",
       "  <tbody>\n",
       "    <tr>\n",
       "      <th>2768</th>\n",
       "      <td>12769</td>\n",
       "      <td>2021-03-27</td>\n",
       "      <td>2021-03-01</td>\n",
       "      <td>Saturday</td>\n",
       "      <td>Strawberry Rhubarb</td>\n",
       "      <td>3</td>\n",
       "      <td>60.0</td>\n",
       "      <td>Whole</td>\n",
       "      <td>Pre-Order</td>\n",
       "      <td>Yes</td>\n",
       "    </tr>\n",
       "    <tr>\n",
       "      <th>2769</th>\n",
       "      <td>12770</td>\n",
       "      <td>2021-03-27</td>\n",
       "      <td>2021-03-01</td>\n",
       "      <td>Saturday</td>\n",
       "      <td>Cherry</td>\n",
       "      <td>1</td>\n",
       "      <td>20.0</td>\n",
       "      <td>Whole</td>\n",
       "      <td>In-Store</td>\n",
       "      <td>Yes</td>\n",
       "    </tr>\n",
       "    <tr>\n",
       "      <th>2770</th>\n",
       "      <td>12771</td>\n",
       "      <td>2021-03-27</td>\n",
       "      <td>2021-03-01</td>\n",
       "      <td>Saturday</td>\n",
       "      <td>Strawberry Rhubarb</td>\n",
       "      <td>4</td>\n",
       "      <td>10.0</td>\n",
       "      <td>Slice</td>\n",
       "      <td>In-Store</td>\n",
       "      <td>Yes</td>\n",
       "    </tr>\n",
       "    <tr>\n",
       "      <th>2771</th>\n",
       "      <td>12772</td>\n",
       "      <td>2021-03-27</td>\n",
       "      <td>2021-03-01</td>\n",
       "      <td>Saturday</td>\n",
       "      <td>Cherry</td>\n",
       "      <td>3</td>\n",
       "      <td>60.0</td>\n",
       "      <td>Whole</td>\n",
       "      <td>Pre-Order</td>\n",
       "      <td>Yes</td>\n",
       "    </tr>\n",
       "    <tr>\n",
       "      <th>2772</th>\n",
       "      <td>12773</td>\n",
       "      <td>2021-03-27</td>\n",
       "      <td>2021-03-01</td>\n",
       "      <td>Saturday</td>\n",
       "      <td>Cherry</td>\n",
       "      <td>5</td>\n",
       "      <td>100.0</td>\n",
       "      <td>Whole</td>\n",
       "      <td>In-Store</td>\n",
       "      <td>Yes</td>\n",
       "    </tr>\n",
       "  </tbody>\n",
       "</table>\n",
       "</div>"
      ],
      "text/plain": [
       "      Order NO Order Date   Month/Yr Day of Week          Pie Flavor  \\\n",
       "2768     12769 2021-03-27 2021-03-01    Saturday  Strawberry Rhubarb   \n",
       "2769     12770 2021-03-27 2021-03-01    Saturday              Cherry   \n",
       "2770     12771 2021-03-27 2021-03-01    Saturday  Strawberry Rhubarb   \n",
       "2771     12772 2021-03-27 2021-03-01    Saturday              Cherry   \n",
       "2772     12773 2021-03-27 2021-03-01    Saturday              Cherry   \n",
       "\n",
       "      Quantity   Cost Slice Or Whole Pie Pre-Order/In-Store Purchase Organic?  \n",
       "2768         3   60.0              Whole                   Pre-Order      Yes  \n",
       "2769         1   20.0              Whole                    In-Store      Yes  \n",
       "2770         4   10.0              Slice                    In-Store      Yes  \n",
       "2771         3   60.0              Whole                   Pre-Order      Yes  \n",
       "2772         5  100.0              Whole                    In-Store      Yes  "
      ]
     },
     "execution_count": 4,
     "metadata": {},
     "output_type": "execute_result"
    }
   ],
   "source": [
    "df.tail()"
   ]
  },
  {
   "cell_type": "code",
   "execution_count": 5,
   "id": "2d9c14fe",
   "metadata": {},
   "outputs": [
    {
     "data": {
      "text/plain": [
       "(2773, 10)"
      ]
     },
     "execution_count": 5,
     "metadata": {},
     "output_type": "execute_result"
    }
   ],
   "source": [
    "df.shape"
   ]
  },
  {
   "cell_type": "code",
   "execution_count": 6,
   "id": "eda6051f",
   "metadata": {},
   "outputs": [
    {
     "name": "stdout",
     "output_type": "stream",
     "text": [
      "<class 'pandas.core.frame.DataFrame'>\n",
      "RangeIndex: 2773 entries, 0 to 2772\n",
      "Data columns (total 10 columns):\n",
      " #   Column                       Non-Null Count  Dtype         \n",
      "---  ------                       --------------  -----         \n",
      " 0   Order NO                     2773 non-null   int64         \n",
      " 1   Order Date                   2773 non-null   datetime64[ns]\n",
      " 2   Month/Yr                     2773 non-null   datetime64[ns]\n",
      " 3   Day of Week                  2773 non-null   object        \n",
      " 4   Pie Flavor                   2773 non-null   object        \n",
      " 5   Quantity                     2773 non-null   int64         \n",
      " 6   Cost                         2773 non-null   float64       \n",
      " 7   Slice Or Whole Pie           2773 non-null   object        \n",
      " 8   Pre-Order/In-Store Purchase  2773 non-null   object        \n",
      " 9   Organic?                     2773 non-null   object        \n",
      "dtypes: datetime64[ns](2), float64(1), int64(2), object(5)\n",
      "memory usage: 216.8+ KB\n"
     ]
    }
   ],
   "source": [
    "df.info()"
   ]
  },
  {
   "cell_type": "code",
   "execution_count": 7,
   "id": "7cf4a92c",
   "metadata": {},
   "outputs": [
    {
     "data": {
      "text/plain": [
       "Order NO                                int64\n",
       "Order Date                     datetime64[ns]\n",
       "Month/Yr                       datetime64[ns]\n",
       "Day of Week                            object\n",
       "Pie Flavor                             object\n",
       "Quantity                                int64\n",
       "Cost                                  float64\n",
       "Slice Or Whole Pie                     object\n",
       "Pre-Order/In-Store Purchase            object\n",
       "Organic?                               object\n",
       "dtype: object"
      ]
     },
     "execution_count": 7,
     "metadata": {},
     "output_type": "execute_result"
    }
   ],
   "source": [
    "df.dtypes"
   ]
  },
  {
   "cell_type": "code",
   "execution_count": 8,
   "id": "fbc1c8ab",
   "metadata": {
    "scrolled": true
   },
   "outputs": [
    {
     "data": {
      "text/html": [
       "<div>\n",
       "<style scoped>\n",
       "    .dataframe tbody tr th:only-of-type {\n",
       "        vertical-align: middle;\n",
       "    }\n",
       "\n",
       "    .dataframe tbody tr th {\n",
       "        vertical-align: top;\n",
       "    }\n",
       "\n",
       "    .dataframe thead th {\n",
       "        text-align: right;\n",
       "    }\n",
       "</style>\n",
       "<table border=\"1\" class=\"dataframe\">\n",
       "  <thead>\n",
       "    <tr style=\"text-align: right;\">\n",
       "      <th></th>\n",
       "      <th>Order NO</th>\n",
       "      <th>Quantity</th>\n",
       "      <th>Cost</th>\n",
       "    </tr>\n",
       "  </thead>\n",
       "  <tbody>\n",
       "    <tr>\n",
       "      <th>count</th>\n",
       "      <td>2773.000000</td>\n",
       "      <td>2773.000000</td>\n",
       "      <td>2773.000000</td>\n",
       "    </tr>\n",
       "    <tr>\n",
       "      <th>mean</th>\n",
       "      <td>11387.000000</td>\n",
       "      <td>3.005049</td>\n",
       "      <td>34.952218</td>\n",
       "    </tr>\n",
       "    <tr>\n",
       "      <th>std</th>\n",
       "      <td>800.640473</td>\n",
       "      <td>1.413949</td>\n",
       "      <td>33.093087</td>\n",
       "    </tr>\n",
       "    <tr>\n",
       "      <th>min</th>\n",
       "      <td>10001.000000</td>\n",
       "      <td>1.000000</td>\n",
       "      <td>2.500000</td>\n",
       "    </tr>\n",
       "    <tr>\n",
       "      <th>25%</th>\n",
       "      <td>10694.000000</td>\n",
       "      <td>2.000000</td>\n",
       "      <td>7.500000</td>\n",
       "    </tr>\n",
       "    <tr>\n",
       "      <th>50%</th>\n",
       "      <td>11387.000000</td>\n",
       "      <td>3.000000</td>\n",
       "      <td>20.000000</td>\n",
       "    </tr>\n",
       "    <tr>\n",
       "      <th>75%</th>\n",
       "      <td>12080.000000</td>\n",
       "      <td>4.000000</td>\n",
       "      <td>60.000000</td>\n",
       "    </tr>\n",
       "    <tr>\n",
       "      <th>max</th>\n",
       "      <td>12773.000000</td>\n",
       "      <td>5.000000</td>\n",
       "      <td>100.000000</td>\n",
       "    </tr>\n",
       "  </tbody>\n",
       "</table>\n",
       "</div>"
      ],
      "text/plain": [
       "           Order NO     Quantity         Cost\n",
       "count   2773.000000  2773.000000  2773.000000\n",
       "mean   11387.000000     3.005049    34.952218\n",
       "std      800.640473     1.413949    33.093087\n",
       "min    10001.000000     1.000000     2.500000\n",
       "25%    10694.000000     2.000000     7.500000\n",
       "50%    11387.000000     3.000000    20.000000\n",
       "75%    12080.000000     4.000000    60.000000\n",
       "max    12773.000000     5.000000   100.000000"
      ]
     },
     "execution_count": 8,
     "metadata": {},
     "output_type": "execute_result"
    }
   ],
   "source": [
    "df.describe()"
   ]
  },
  {
   "cell_type": "markdown",
   "id": "3217dba9",
   "metadata": {},
   "source": [
    "# Checking for null values"
   ]
  },
  {
   "cell_type": "code",
   "execution_count": 9,
   "id": "89a4a9bb",
   "metadata": {
    "scrolled": true
   },
   "outputs": [
    {
     "data": {
      "text/plain": [
       "Order NO                       0\n",
       "Order Date                     0\n",
       "Month/Yr                       0\n",
       "Day of Week                    0\n",
       "Pie Flavor                     0\n",
       "Quantity                       0\n",
       "Cost                           0\n",
       "Slice Or Whole Pie             0\n",
       "Pre-Order/In-Store Purchase    0\n",
       "Organic?                       0\n",
       "dtype: int64"
      ]
     },
     "execution_count": 9,
     "metadata": {},
     "output_type": "execute_result"
    }
   ],
   "source": [
    "df.isnull().sum()"
   ]
  },
  {
   "cell_type": "markdown",
   "id": "c83390f6",
   "metadata": {},
   "source": [
    "### There are no null values."
   ]
  },
  {
   "cell_type": "code",
   "execution_count": 10,
   "id": "c99a2031",
   "metadata": {},
   "outputs": [
    {
     "data": {
      "text/html": [
       "<div>\n",
       "<style scoped>\n",
       "    .dataframe tbody tr th:only-of-type {\n",
       "        vertical-align: middle;\n",
       "    }\n",
       "\n",
       "    .dataframe tbody tr th {\n",
       "        vertical-align: top;\n",
       "    }\n",
       "\n",
       "    .dataframe thead th {\n",
       "        text-align: right;\n",
       "    }\n",
       "</style>\n",
       "<table border=\"1\" class=\"dataframe\">\n",
       "  <thead>\n",
       "    <tr style=\"text-align: right;\">\n",
       "      <th></th>\n",
       "      <th>Order NO</th>\n",
       "      <th>Order Date</th>\n",
       "      <th>Month/Yr</th>\n",
       "      <th>Day of Week</th>\n",
       "      <th>Pie Flavor</th>\n",
       "      <th>Quantity</th>\n",
       "      <th>Cost</th>\n",
       "      <th>Slice Or Whole Pie</th>\n",
       "      <th>Pre-Order/In-Store Purchase</th>\n",
       "      <th>Organic?</th>\n",
       "      <th>Date</th>\n",
       "      <th>month</th>\n",
       "      <th>year</th>\n",
       "    </tr>\n",
       "  </thead>\n",
       "  <tbody>\n",
       "    <tr>\n",
       "      <th>0</th>\n",
       "      <td>10001</td>\n",
       "      <td>2019-12-19</td>\n",
       "      <td>2019-12-01</td>\n",
       "      <td>Thursday</td>\n",
       "      <td>Apple</td>\n",
       "      <td>5</td>\n",
       "      <td>12.5</td>\n",
       "      <td>Slice</td>\n",
       "      <td>Pre-Order</td>\n",
       "      <td>No</td>\n",
       "      <td>2019-12-01</td>\n",
       "      <td>12</td>\n",
       "      <td>2019</td>\n",
       "    </tr>\n",
       "    <tr>\n",
       "      <th>1</th>\n",
       "      <td>10002</td>\n",
       "      <td>2019-12-19</td>\n",
       "      <td>2019-12-01</td>\n",
       "      <td>Thursday</td>\n",
       "      <td>Apple</td>\n",
       "      <td>3</td>\n",
       "      <td>60.0</td>\n",
       "      <td>Whole</td>\n",
       "      <td>In-Store</td>\n",
       "      <td>Yes</td>\n",
       "      <td>2019-12-01</td>\n",
       "      <td>12</td>\n",
       "      <td>2019</td>\n",
       "    </tr>\n",
       "    <tr>\n",
       "      <th>2</th>\n",
       "      <td>10003</td>\n",
       "      <td>2019-12-19</td>\n",
       "      <td>2019-12-01</td>\n",
       "      <td>Thursday</td>\n",
       "      <td>Apple</td>\n",
       "      <td>3</td>\n",
       "      <td>60.0</td>\n",
       "      <td>Whole</td>\n",
       "      <td>In-Store</td>\n",
       "      <td>No</td>\n",
       "      <td>2019-12-01</td>\n",
       "      <td>12</td>\n",
       "      <td>2019</td>\n",
       "    </tr>\n",
       "    <tr>\n",
       "      <th>3</th>\n",
       "      <td>10004</td>\n",
       "      <td>2019-12-19</td>\n",
       "      <td>2019-12-01</td>\n",
       "      <td>Thursday</td>\n",
       "      <td>Apple</td>\n",
       "      <td>4</td>\n",
       "      <td>80.0</td>\n",
       "      <td>Whole</td>\n",
       "      <td>Pre-Order</td>\n",
       "      <td>No</td>\n",
       "      <td>2019-12-01</td>\n",
       "      <td>12</td>\n",
       "      <td>2019</td>\n",
       "    </tr>\n",
       "    <tr>\n",
       "      <th>4</th>\n",
       "      <td>10005</td>\n",
       "      <td>2019-12-19</td>\n",
       "      <td>2019-12-01</td>\n",
       "      <td>Thursday</td>\n",
       "      <td>Apple</td>\n",
       "      <td>2</td>\n",
       "      <td>40.0</td>\n",
       "      <td>Whole</td>\n",
       "      <td>In-Store</td>\n",
       "      <td>No</td>\n",
       "      <td>2019-12-01</td>\n",
       "      <td>12</td>\n",
       "      <td>2019</td>\n",
       "    </tr>\n",
       "    <tr>\n",
       "      <th>...</th>\n",
       "      <td>...</td>\n",
       "      <td>...</td>\n",
       "      <td>...</td>\n",
       "      <td>...</td>\n",
       "      <td>...</td>\n",
       "      <td>...</td>\n",
       "      <td>...</td>\n",
       "      <td>...</td>\n",
       "      <td>...</td>\n",
       "      <td>...</td>\n",
       "      <td>...</td>\n",
       "      <td>...</td>\n",
       "      <td>...</td>\n",
       "    </tr>\n",
       "    <tr>\n",
       "      <th>2768</th>\n",
       "      <td>12769</td>\n",
       "      <td>2021-03-27</td>\n",
       "      <td>2021-03-01</td>\n",
       "      <td>Saturday</td>\n",
       "      <td>Strawberry Rhubarb</td>\n",
       "      <td>3</td>\n",
       "      <td>60.0</td>\n",
       "      <td>Whole</td>\n",
       "      <td>Pre-Order</td>\n",
       "      <td>Yes</td>\n",
       "      <td>2021-03-01</td>\n",
       "      <td>3</td>\n",
       "      <td>2021</td>\n",
       "    </tr>\n",
       "    <tr>\n",
       "      <th>2769</th>\n",
       "      <td>12770</td>\n",
       "      <td>2021-03-27</td>\n",
       "      <td>2021-03-01</td>\n",
       "      <td>Saturday</td>\n",
       "      <td>Cherry</td>\n",
       "      <td>1</td>\n",
       "      <td>20.0</td>\n",
       "      <td>Whole</td>\n",
       "      <td>In-Store</td>\n",
       "      <td>Yes</td>\n",
       "      <td>2021-03-01</td>\n",
       "      <td>3</td>\n",
       "      <td>2021</td>\n",
       "    </tr>\n",
       "    <tr>\n",
       "      <th>2770</th>\n",
       "      <td>12771</td>\n",
       "      <td>2021-03-27</td>\n",
       "      <td>2021-03-01</td>\n",
       "      <td>Saturday</td>\n",
       "      <td>Strawberry Rhubarb</td>\n",
       "      <td>4</td>\n",
       "      <td>10.0</td>\n",
       "      <td>Slice</td>\n",
       "      <td>In-Store</td>\n",
       "      <td>Yes</td>\n",
       "      <td>2021-03-01</td>\n",
       "      <td>3</td>\n",
       "      <td>2021</td>\n",
       "    </tr>\n",
       "    <tr>\n",
       "      <th>2771</th>\n",
       "      <td>12772</td>\n",
       "      <td>2021-03-27</td>\n",
       "      <td>2021-03-01</td>\n",
       "      <td>Saturday</td>\n",
       "      <td>Cherry</td>\n",
       "      <td>3</td>\n",
       "      <td>60.0</td>\n",
       "      <td>Whole</td>\n",
       "      <td>Pre-Order</td>\n",
       "      <td>Yes</td>\n",
       "      <td>2021-03-01</td>\n",
       "      <td>3</td>\n",
       "      <td>2021</td>\n",
       "    </tr>\n",
       "    <tr>\n",
       "      <th>2772</th>\n",
       "      <td>12773</td>\n",
       "      <td>2021-03-27</td>\n",
       "      <td>2021-03-01</td>\n",
       "      <td>Saturday</td>\n",
       "      <td>Cherry</td>\n",
       "      <td>5</td>\n",
       "      <td>100.0</td>\n",
       "      <td>Whole</td>\n",
       "      <td>In-Store</td>\n",
       "      <td>Yes</td>\n",
       "      <td>2021-03-01</td>\n",
       "      <td>3</td>\n",
       "      <td>2021</td>\n",
       "    </tr>\n",
       "  </tbody>\n",
       "</table>\n",
       "<p>2773 rows × 13 columns</p>\n",
       "</div>"
      ],
      "text/plain": [
       "      Order NO Order Date   Month/Yr Day of Week          Pie Flavor  \\\n",
       "0        10001 2019-12-19 2019-12-01    Thursday               Apple   \n",
       "1        10002 2019-12-19 2019-12-01    Thursday               Apple   \n",
       "2        10003 2019-12-19 2019-12-01    Thursday               Apple   \n",
       "3        10004 2019-12-19 2019-12-01    Thursday               Apple   \n",
       "4        10005 2019-12-19 2019-12-01    Thursday               Apple   \n",
       "...        ...        ...        ...         ...                 ...   \n",
       "2768     12769 2021-03-27 2021-03-01    Saturday  Strawberry Rhubarb   \n",
       "2769     12770 2021-03-27 2021-03-01    Saturday              Cherry   \n",
       "2770     12771 2021-03-27 2021-03-01    Saturday  Strawberry Rhubarb   \n",
       "2771     12772 2021-03-27 2021-03-01    Saturday              Cherry   \n",
       "2772     12773 2021-03-27 2021-03-01    Saturday              Cherry   \n",
       "\n",
       "      Quantity   Cost Slice Or Whole Pie Pre-Order/In-Store Purchase Organic?  \\\n",
       "0            5   12.5              Slice                   Pre-Order       No   \n",
       "1            3   60.0              Whole                    In-Store      Yes   \n",
       "2            3   60.0              Whole                    In-Store       No   \n",
       "3            4   80.0              Whole                   Pre-Order       No   \n",
       "4            2   40.0              Whole                    In-Store       No   \n",
       "...        ...    ...                ...                         ...      ...   \n",
       "2768         3   60.0              Whole                   Pre-Order      Yes   \n",
       "2769         1   20.0              Whole                    In-Store      Yes   \n",
       "2770         4   10.0              Slice                    In-Store      Yes   \n",
       "2771         3   60.0              Whole                   Pre-Order      Yes   \n",
       "2772         5  100.0              Whole                    In-Store      Yes   \n",
       "\n",
       "           Date  month  year  \n",
       "0    2019-12-01     12  2019  \n",
       "1    2019-12-01     12  2019  \n",
       "2    2019-12-01     12  2019  \n",
       "3    2019-12-01     12  2019  \n",
       "4    2019-12-01     12  2019  \n",
       "...         ...    ...   ...  \n",
       "2768 2021-03-01      3  2021  \n",
       "2769 2021-03-01      3  2021  \n",
       "2770 2021-03-01      3  2021  \n",
       "2771 2021-03-01      3  2021  \n",
       "2772 2021-03-01      3  2021  \n",
       "\n",
       "[2773 rows x 13 columns]"
      ]
     },
     "execution_count": 10,
     "metadata": {},
     "output_type": "execute_result"
    }
   ],
   "source": [
    "df['Date']=df['Month/Yr']\n",
    "df['month'] = df['Date'].dt.month\n",
    "df[\"year\"]=df[\"Date\"].dt.year\n",
    "df"
   ]
  },
  {
   "cell_type": "markdown",
   "id": "a0ccde8b",
   "metadata": {},
   "source": [
    "# 1.Total income made by pie sales in 2 years"
   ]
  },
  {
   "cell_type": "code",
   "execution_count": 11,
   "id": "55574e5d",
   "metadata": {},
   "outputs": [
    {
     "data": {
      "text/plain": [
       "96922.5"
      ]
     },
     "execution_count": 11,
     "metadata": {},
     "output_type": "execute_result"
    }
   ],
   "source": [
    "df[\"Cost\"].sum()"
   ]
  },
  {
   "cell_type": "markdown",
   "id": "3e14469a",
   "metadata": {},
   "source": [
    "### Total inome made by pie sales in 2 years = 96922.5"
   ]
  },
  {
   "cell_type": "markdown",
   "id": "5019f457",
   "metadata": {},
   "source": [
    "# 2.Most sold pies flavours"
   ]
  },
  {
   "cell_type": "code",
   "execution_count": 12,
   "id": "b051c50f",
   "metadata": {
    "scrolled": true
   },
   "outputs": [
    {
     "name": "stdout",
     "output_type": "stream",
     "text": [
      "Apple                 702\n",
      "Strawberry Rhubarb    636\n",
      "Pumpkin               506\n",
      "Cherry                321\n",
      "Fudge                 312\n",
      "Blueberry             208\n",
      "Other                  88\n",
      "Name: Pie Flavor, dtype: int64\n"
     ]
    }
   ],
   "source": [
    "x=df[\"Pie Flavor\"].value_counts()\n",
    "print(x)"
   ]
  },
  {
   "cell_type": "markdown",
   "id": "bdfa91a0",
   "metadata": {},
   "source": [
    "### Most sold pie flavour is Apple."
   ]
  },
  {
   "cell_type": "code",
   "execution_count": 13,
   "id": "f0deed84",
   "metadata": {},
   "outputs": [
    {
     "name": "stdout",
     "output_type": "stream",
     "text": [
      "['Apple', 'Strawberry Rhubarb', 'Pumpkin', 'Cherry', 'Fudge', 'Blueberry', 'Other']\n",
      "[702, 636, 506, 321, 312, 208, 88]\n"
     ]
    }
   ],
   "source": [
    "a=x.keys().to_list()\n",
    "print(a)\n",
    "b=x.to_list()\n",
    "print(b)"
   ]
  },
  {
   "cell_type": "code",
   "execution_count": 14,
   "id": "1d713291",
   "metadata": {},
   "outputs": [],
   "source": [
    "sns.set_style(\"whitegrid\")"
   ]
  },
  {
   "cell_type": "code",
   "execution_count": 15,
   "id": "cb5c5e11",
   "metadata": {},
   "outputs": [
    {
     "data": {
      "text/plain": [
       "([<matplotlib.patches.Wedge at 0x184e6f1c910>,\n",
       "  <matplotlib.patches.Wedge at 0x184e6f1cfa0>,\n",
       "  <matplotlib.patches.Wedge at 0x184e6f2a6d0>,\n",
       "  <matplotlib.patches.Wedge at 0x184e6f2ad60>,\n",
       "  <matplotlib.patches.Wedge at 0x184e6f31430>,\n",
       "  <matplotlib.patches.Wedge at 0x184e6f31ac0>,\n",
       "  <matplotlib.patches.Wedge at 0x184e6f39190>],\n",
       " [Text(0.7700687799389819, 0.7854897034101006, 'Apple'),\n",
       "  Text(-0.7420128096363904, 0.8120449435440812, 'Strawberry Rhubarb'),\n",
       "  Text(-0.9840088269466526, -0.49165702322968285, 'Pumpkin'),\n",
       "  Text(-0.1866477459893522, -1.0840491773517908, 'Cherry'),\n",
       "  Text(0.5717969725386784, -0.9397064553335801, 'Fudge'),\n",
       "  Text(0.9975375687691657, -0.4635933551013239, 'Blueberry'),\n",
       "  Text(1.0945377943928596, -0.10948523482924226, 'Other')],\n",
       " [Text(0.42003751633035374, 0.42844892913278215, '25.32%'),\n",
       "  Text(-0.40473425980166744, 0.4429336055694988, '22.94%'),\n",
       "  Text(-0.5367320874254468, -0.2681765581252815, '18.25%'),\n",
       "  Text(-0.10180786144873755, -0.591299551282795, '11.58%'),\n",
       "  Text(0.31188925774837006, -0.5125671574546801, '11.25%'),\n",
       "  Text(0.5441114011468176, -0.25286910278254027, '7.50%'),\n",
       "  Text(0.5970206151233779, -0.0597192189977685, '3.17%')])"
      ]
     },
     "execution_count": 15,
     "metadata": {},
     "output_type": "execute_result"
    },
    {
     "data": {
      "image/png": "[encoded data removed]",
      "text/plain": [
       "<Figure size 720x720 with 1 Axes>"
      ]
     },
     "metadata": {},
     "output_type": "display_data"
    }
   ],
   "source": [
    "plt.figure(figsize=(10,10))\n",
    "plt.pie(x,labels=a,autopct='%1.2f%%')"
   ]
  },
  {
   "cell_type": "code",
   "execution_count": 16,
   "id": "d9751ec5",
   "metadata": {},
   "outputs": [
    {
     "data": {
      "text/plain": [
       "<AxesSubplot:xlabel='Pie Flavor', ylabel='count'>"
      ]
     },
     "execution_count": 16,
     "metadata": {},
     "output_type": "execute_result"
    },
    {
     "data": {
      "image/png": "[encoded data removed]",
      "text/plain": [
       "<Figure size 720x360 with 1 Axes>"
      ]
     },
     "metadata": {},
     "output_type": "display_data"
    }
   ],
   "source": [
    "plt.figure(figsize=(10,5))\n",
    "sns.countplot(x=\"Pie Flavor\",data=df)"
   ]
  },
  {
   "cell_type": "markdown",
   "id": "e8f1146a",
   "metadata": {},
   "source": [
    "# 3.Total number of pies sold in two years"
   ]
  },
  {
   "cell_type": "code",
   "execution_count": 17,
   "id": "6fddd9ff",
   "metadata": {},
   "outputs": [
    {
     "data": {
      "text/plain": [
       "8333"
      ]
     },
     "execution_count": 17,
     "metadata": {},
     "output_type": "execute_result"
    }
   ],
   "source": [
    "df[\"Quantity\"].sum()"
   ]
  },
  {
   "cell_type": "markdown",
   "id": "18509a60",
   "metadata": {},
   "source": [
    "### Total number of pies sold in two years are 8333"
   ]
  },
  {
   "cell_type": "code",
   "execution_count": 18,
   "id": "cc68b7c7",
   "metadata": {},
   "outputs": [
    {
     "data": {
      "text/plain": [
       "4    560\n",
       "2    558\n",
       "5    556\n",
       "1    550\n",
       "3    549\n",
       "Name: Quantity, dtype: int64"
      ]
     },
     "execution_count": 18,
     "metadata": {},
     "output_type": "execute_result"
    }
   ],
   "source": [
    "z=df[\"Quantity\"].value_counts()\n",
    "z"
   ]
  },
  {
   "cell_type": "code",
   "execution_count": 19,
   "id": "2cbec536",
   "metadata": {
    "scrolled": false
   },
   "outputs": [
    {
     "data": {
      "text/plain": [
       "Text(0.5, 1.0, 'Quantity of pie')"
      ]
     },
     "execution_count": 19,
     "metadata": {},
     "output_type": "execute_result"
    },
    {
     "data": {
      "image/png": "[encoded data removed]",
      "text/plain": [
       "<Figure size 720x720 with 1 Axes>"
      ]
     },
     "metadata": {},
     "output_type": "display_data"
    }
   ],
   "source": [
    "plt.figure(figsize=(10,10))\n",
    "plt.pie(z,labels=z.keys(),autopct=\"%1.2f%%\")\n",
    "plt.title(\"Quantity of pie\")"
   ]
  },
  {
   "cell_type": "markdown",
   "id": "8d202a2f",
   "metadata": {},
   "source": [
    "###  The sales of pies based on quantity are quite similar to each other."
   ]
  },
  {
   "cell_type": "markdown",
   "id": "fb636faa",
   "metadata": {},
   "source": [
    "# 4.Which is preferred?"
   ]
  },
  {
   "cell_type": "markdown",
   "id": "f89b80d0",
   "metadata": {},
   "source": [
    "### 4.1.Organic or not"
   ]
  },
  {
   "cell_type": "code",
   "execution_count": 20,
   "id": "db38c2d9",
   "metadata": {},
   "outputs": [
    {
     "data": {
      "text/plain": [
       "Yes    2116\n",
       "No      657\n",
       "Name: Organic?, dtype: int64"
      ]
     },
     "execution_count": 20,
     "metadata": {},
     "output_type": "execute_result"
    }
   ],
   "source": [
    "df[\"Organic?\"].value_counts()"
   ]
  },
  {
   "cell_type": "code",
   "execution_count": 21,
   "id": "8c1ba66c",
   "metadata": {},
   "outputs": [
    {
     "data": {
      "text/plain": [
       "<AxesSubplot:xlabel='Organic?', ylabel='count'>"
      ]
     },
     "execution_count": 21,
     "metadata": {},
     "output_type": "execute_result"
    },
    {
     "data": {
      "image/png": "[encoded data removed]",
      "text/plain": [
       "<Figure size 360x360 with 1 Axes>"
      ]
     },
     "metadata": {},
     "output_type": "display_data"
    }
   ],
   "source": [
    "plt.figure(figsize=(5,5))\n",
    "sns.countplot(x=\"Organic?\",data=df)"
   ]
  },
  {
   "cell_type": "markdown",
   "id": "75624783",
   "metadata": {},
   "source": [
    "### (Based on flavours)"
   ]
  },
  {
   "cell_type": "code",
   "execution_count": 22,
   "id": "f78e6fec",
   "metadata": {},
   "outputs": [
    {
     "data": {
      "text/plain": [
       "<AxesSubplot:xlabel='Pie Flavor', ylabel='count'>"
      ]
     },
     "execution_count": 22,
     "metadata": {},
     "output_type": "execute_result"
    },
    {
     "data": {
      "image/png": "[encoded data removed]",
      "text/plain": [
       "<Figure size 720x360 with 1 Axes>"
      ]
     },
     "metadata": {},
     "output_type": "display_data"
    }
   ],
   "source": [
    "plt.figure(figsize=(10,5))\n",
    "sns.countplot(x=\"Pie Flavor\",data=df,hue=\"Organic?\")"
   ]
  },
  {
   "cell_type": "markdown",
   "id": "de19a390",
   "metadata": {},
   "source": [
    "### 4.2.Whole pie or slice"
   ]
  },
  {
   "cell_type": "code",
   "execution_count": 23,
   "id": "cb0c680e",
   "metadata": {},
   "outputs": [
    {
     "data": {
      "text/plain": [
       "<AxesSubplot:xlabel='Slice Or Whole Pie', ylabel='count'>"
      ]
     },
     "execution_count": 23,
     "metadata": {},
     "output_type": "execute_result"
    },
    {
     "data": {
      "image/png": "[encoded data removed]",
      "text/plain": [
       "<Figure size 720x360 with 1 Axes>"
      ]
     },
     "metadata": {},
     "output_type": "display_data"
    }
   ],
   "source": [
    "plt.figure(figsize=(10,5))\n",
    "sns.countplot(x=\"Slice Or Whole Pie\",data=df)"
   ]
  },
  {
   "cell_type": "markdown",
   "id": "611c389c",
   "metadata": {},
   "source": [
    "### (Based on flavours)"
   ]
  },
  {
   "cell_type": "code",
   "execution_count": 24,
   "id": "25011dbb",
   "metadata": {},
   "outputs": [
    {
     "data": {
      "text/plain": [
       "<AxesSubplot:xlabel='Pie Flavor', ylabel='count'>"
      ]
     },
     "execution_count": 24,
     "metadata": {},
     "output_type": "execute_result"
    },
    {
     "data": {
      "image/png": "[encoded data removed]",
      "text/plain": [
       "<Figure size 720x360 with 1 Axes>"
      ]
     },
     "metadata": {},
     "output_type": "display_data"
    }
   ],
   "source": [
    "plt.figure(figsize=(10,5))\n",
    "sns.countplot(x=\"Pie Flavor\",data=df,hue=\"Slice Or Whole Pie\")"
   ]
  },
  {
   "cell_type": "markdown",
   "id": "3e07ba9c",
   "metadata": {},
   "source": [
    "### 4.3.Pre-Order/In-Store Purchase"
   ]
  },
  {
   "cell_type": "code",
   "execution_count": 25,
   "id": "98238691",
   "metadata": {
    "scrolled": true
   },
   "outputs": [
    {
     "data": {
      "text/plain": [
       "<AxesSubplot:xlabel='Pre-Order/In-Store Purchase', ylabel='count'>"
      ]
     },
     "execution_count": 25,
     "metadata": {},
     "output_type": "execute_result"
    },
    {
     "data": {
      "image/png": "[encoded data removed]",
      "text/plain": [
       "<Figure size 720x360 with 1 Axes>"
      ]
     },
     "metadata": {},
     "output_type": "display_data"
    }
   ],
   "source": [
    "plt.figure(figsize=(10,5))\n",
    "sns.countplot(x=\"Pre-Order/In-Store Purchase\",data=df)"
   ]
  },
  {
   "cell_type": "markdown",
   "id": "29b3d6f0",
   "metadata": {},
   "source": [
    "### (Based on flavours)"
   ]
  },
  {
   "cell_type": "code",
   "execution_count": 26,
   "id": "75693e34",
   "metadata": {
    "scrolled": true
   },
   "outputs": [
    {
     "data": {
      "text/plain": [
       "<AxesSubplot:xlabel='Pie Flavor', ylabel='count'>"
      ]
     },
     "execution_count": 26,
     "metadata": {},
     "output_type": "execute_result"
    },
    {
     "data": {
      "image/png": "[encoded data removed]",
      "text/plain": [
       "<Figure size 720x360 with 1 Axes>"
      ]
     },
     "metadata": {},
     "output_type": "display_data"
    }
   ],
   "source": [
    "plt.figure(figsize=(10,5))\n",
    "sns.countplot(x=\"Pie Flavor\",data=df,hue=\"Pre-Order/In-Store Purchase\")"
   ]
  },
  {
   "cell_type": "markdown",
   "id": "e1c0f655",
   "metadata": {},
   "source": [
    "# 5.Which day made the most sales?"
   ]
  },
  {
   "cell_type": "code",
   "execution_count": 27,
   "id": "d490e098",
   "metadata": {
    "scrolled": true
   },
   "outputs": [],
   "source": [
    "y=df[\"Day of Week\"].value_counts()\n",
    "keys=y.keys().to_list()"
   ]
  },
  {
   "cell_type": "code",
   "execution_count": 28,
   "id": "5ea503c8",
   "metadata": {
    "scrolled": false
   },
   "outputs": [
    {
     "data": {
      "text/plain": [
       "(array([0, 1, 2, 3, 4, 5, 6]),\n",
       " [Text(0, 0, 'Monday'),\n",
       "  Text(1, 0, 'Tuesday'),\n",
       "  Text(2, 0, 'Wednesday'),\n",
       "  Text(3, 0, 'Thursday'),\n",
       "  Text(4, 0, 'Friday'),\n",
       "  Text(5, 0, 'Saturday'),\n",
       "  Text(6, 0, 'Sunday')])"
      ]
     },
     "execution_count": 28,
     "metadata": {},
     "output_type": "execute_result"
    },
    {
     "data": {
      "image/png": "[encoded data removed]",
      "text/plain": [
       "<Figure size 720x360 with 1 Axes>"
      ]
     },
     "metadata": {},
     "output_type": "display_data"
    }
   ],
   "source": [
    "plt.figure(figsize=(10,5))\n",
    "sns.countplot(x=\"Day of Week\",data=df,order=(\"Monday\",\"Tuesday\",\"Wednesday\",\"Thursday\",\"Friday\",\"Saturday\",\"Sunday\"))\n",
    "plt.ylabel(\"Sales\")\n",
    "plt.yticks(size=15) \n",
    "plt.xticks(size=15)"
   ]
  },
  {
   "cell_type": "markdown",
   "id": "c682b971",
   "metadata": {},
   "source": [
    "### Most sales were made on a Saturday"
   ]
  },
  {
   "cell_type": "markdown",
   "id": "344c1ea5",
   "metadata": {},
   "source": [
    "# 6.Year wise sales"
   ]
  },
  {
   "cell_type": "code",
   "execution_count": 29,
   "id": "ca648c91",
   "metadata": {
    "scrolled": true
   },
   "outputs": [
    {
     "data": {
      "text/plain": [
       "2021    1314\n",
       "2020    1117\n",
       "2019     342\n",
       "Name: year, dtype: int64"
      ]
     },
     "execution_count": 29,
     "metadata": {},
     "output_type": "execute_result"
    }
   ],
   "source": [
    "df[\"year\"].value_counts()"
   ]
  },
  {
   "cell_type": "code",
   "execution_count": 30,
   "id": "8d60db62",
   "metadata": {
    "scrolled": false
   },
   "outputs": [
    {
     "data": {
      "text/plain": [
       "Text(0.5, 1.0, 'SALES (YEARS)')"
      ]
     },
     "execution_count": 30,
     "metadata": {},
     "output_type": "execute_result"
    },
    {
     "data": {
      "image/png": "[encoded data removed]",
      "text/plain": [
       "<Figure size 720x360 with 1 Axes>"
      ]
     },
     "metadata": {},
     "output_type": "display_data"
    }
   ],
   "source": [
    "plt.figure(figsize=(10,5))\n",
    "sns.countplot(x=\"year\",data=df)\n",
    "plt.title(\"SALES (YEARS)\")"
   ]
  },
  {
   "cell_type": "markdown",
   "id": "df3f47c2",
   "metadata": {},
   "source": [
    "# 7.Month wise sales"
   ]
  },
  {
   "cell_type": "code",
   "execution_count": 31,
   "id": "6713cc4d",
   "metadata": {},
   "outputs": [
    {
     "data": {
      "image/png": "[encoded data removed]",
      "text/plain": [
       "<Figure size 720x720 with 1 Axes>"
      ]
     },
     "metadata": {},
     "output_type": "display_data"
    }
   ],
   "source": [
    "plt.figure(figsize=(10,10))\n",
    "sns.countplot(x=\"month\",data=df,hue=\"year\",palette=\"hls\")\n",
    "plt.title(\"SALES(MONTHS EACH YEAR)\")\n",
    "plt.style.use(\"fast\")"
   ]
  },
  {
   "cell_type": "code",
   "execution_count": 32,
   "id": "0f676081",
   "metadata": {},
   "outputs": [
    {
     "data": {
      "text/plain": [
       "4     387\n",
       "11    311\n",
       "3     295\n",
       "7     287\n",
       "10    276\n",
       "5     204\n",
       "8     193\n",
       "1     174\n",
       "6     164\n",
       "2     162\n",
       "9     161\n",
       "12    159\n",
       "Name: month, dtype: int64"
      ]
     },
     "execution_count": 32,
     "metadata": {},
     "output_type": "execute_result"
    }
   ],
   "source": [
    "df[\"month\"].value_counts()"
   ]
  },
  {
   "cell_type": "code",
   "execution_count": 33,
   "id": "97da1620",
   "metadata": {},
   "outputs": [
    {
     "name": "stdout",
     "output_type": "stream",
     "text": [
      "[1, 2, 3, 4, 5, 6, 7, 8, 9, 10, 11, 12]\n",
      "4     387\n",
      "11    311\n",
      "3     295\n",
      "7     287\n",
      "10    276\n",
      "5     204\n",
      "8     193\n",
      "1     174\n",
      "6     164\n",
      "2     162\n",
      "9     161\n",
      "12    159\n",
      "Name: month, dtype: int64\n"
     ]
    }
   ],
   "source": [
    "b=df[\"month\"].value_counts()\n",
    "keys=b.keys().to_list()\n",
    "keys.sort()\n",
    "print(keys)\n",
    "print(b)"
   ]
  },
  {
   "cell_type": "code",
   "execution_count": 34,
   "id": "c99b3f36",
   "metadata": {},
   "outputs": [
    {
     "name": "stdout",
     "output_type": "stream",
     "text": [
      "1     174\n",
      "2     162\n",
      "3     295\n",
      "4     387\n",
      "5     204\n",
      "6     164\n",
      "7     287\n",
      "8     193\n",
      "9     161\n",
      "10    276\n",
      "11    311\n",
      "12    159\n",
      "Name: month, dtype: int64\n"
     ]
    }
   ],
   "source": [
    "b.sort_index(axis=0,ascending=True, inplace=True)\n",
    "print(b)"
   ]
  },
  {
   "cell_type": "code",
   "execution_count": 35,
   "id": "427164a8",
   "metadata": {},
   "outputs": [],
   "source": [
    "keys=[\"Jan\",\"Feb\",\"Mar\",\"Apr\",\"May\",\"Jun\",\"July\",\"Aug\",\"Sept\",\"Oct\",\"Nov\",\"Dec\"]"
   ]
  },
  {
   "cell_type": "code",
   "execution_count": 36,
   "id": "18af3e24",
   "metadata": {
    "scrolled": false
   },
   "outputs": [
    {
     "data": {
      "text/plain": [
       "Text(0.5, 1.0, 'SALES(MONTHS)')"
      ]
     },
     "execution_count": 36,
     "metadata": {},
     "output_type": "execute_result"
    },
    {
     "data": {
      "image/png": "[encoded data removed]",
      "text/plain": [
       "<Figure size 720x720 with 1 Axes>"
      ]
     },
     "metadata": {},
     "output_type": "display_data"
    }
   ],
   "source": [
    "plt.figure(figsize=(10,10))\n",
    "sns.countplot(x=\"month\",data=df,palette=\"tab10\")\n",
    "plt.title(\"SALES(MONTHS)\")"
   ]
  },
  {
   "cell_type": "code",
   "execution_count": 37,
   "id": "955913b9",
   "metadata": {},
   "outputs": [
    {
     "data": {
      "text/plain": [
       "([<matplotlib.patches.Wedge at 0x184e7c01af0>,\n",
       "  <matplotlib.patches.Wedge at 0x184e7b6b9d0>,\n",
       "  <matplotlib.patches.Wedge at 0x184e7b6bbb0>,\n",
       "  <matplotlib.patches.Wedge at 0x184e7be5ac0>,\n",
       "  <matplotlib.patches.Wedge at 0x184e7be5610>,\n",
       "  <matplotlib.patches.Wedge at 0x184e7b8adf0>,\n",
       "  <matplotlib.patches.Wedge at 0x184e7b8a5e0>,\n",
       "  <matplotlib.patches.Wedge at 0x184e7b8a8b0>,\n",
       "  <matplotlib.patches.Wedge at 0x184e7becca0>,\n",
       "  <matplotlib.patches.Wedge at 0x184e7bec2b0>,\n",
       "  <matplotlib.patches.Wedge at 0x184e7bb9c40>,\n",
       "  <matplotlib.patches.Wedge at 0x184e77a72e0>],\n",
       " [Text(1.0786963338531697, 0.21543959555228337, 'Jan'),\n",
       "  Text(0.9214387905199298, 0.6007916072359609, 'Feb'),\n",
       "  Text(0.5033273668607761, 0.9780907737878923, 'Mar'),\n",
       "  Text(-0.32233048570226486, 1.0517143423891024, 'Apr'),\n",
       "  Text(-0.905472811817623, 0.6245950584651528, 'May'),\n",
       "  Text(-1.0808369109547349, 0.2044298704148365, 'Jun'),\n",
       "  Text(-1.0427610157794658, -0.3502134548679946, 'July'),\n",
       "  Text(-0.7111418312209682, -0.8392123068018534, 'Aug'),\n",
       "  Text(-0.32709316320986476, -1.0502428588575907, 'Sept'),\n",
       "  Text(0.2111606806639072, -1.0795421098510034, 'Oct'),\n",
       "  Text(0.8323253362916515, -0.7191901935976251, 'Nov'),\n",
       "  Text(1.082201555953592, -0.1970781375283028, 'Dec')],\n",
       " [Text(0.5883798184653652, 0.11751250666488182, '6.27%'),\n",
       "  Text(0.5026029766472344, 0.3277045130377968, '5.84%'),\n",
       "  Text(0.2745422001058778, 0.5335040584297593, '10.64%'),\n",
       "  Text(-0.1758166285648717, 0.5736623685758739, '13.96%'),\n",
       "  Text(-0.49389426099143063, 0.3406882137082652, '7.36%'),\n",
       "  Text(-0.5895474059753099, 0.11150720204445627, '5.91%'),\n",
       "  Text(-0.5687787358797086, -0.19102552083708793, '10.35%'),\n",
       "  Text(-0.38789554430234624, -0.4577521673464654, '6.96%'),\n",
       "  Text(-0.1784144526599262, -0.5728597411950493, '5.81%'),\n",
       "  Text(0.11517855308940392, -0.58884115082782, '9.95%'),\n",
       "  Text(0.4539956379772644, -0.3922855601441591, '11.22%'),\n",
       "  Text(0.5902917577928684, -0.10749716592452879, '5.73%')])"
      ]
     },
     "execution_count": 37,
     "metadata": {},
     "output_type": "execute_result"
    },
    {
     "data": {
      "image/png": "[encoded data removed]",
      "text/plain": [
       "<Figure size 720x720 with 1 Axes>"
      ]
     },
     "metadata": {},
     "output_type": "display_data"
    }
   ],
   "source": [
    "plt.figure(figsize=(10,10))\n",
    "plt.pie(x=b,labels=keys,autopct=\"%1.2f%%\")"
   ]
  }
 ],
 "metadata": {
  "kernelspec": {
   "display_name": "Python 3",
   "language": "python",
   "name": "python3"
  },
  "language_info": {
   "codemirror_mode": {
    "name": "ipython",
    "version": 3
   },
   "file_extension": ".py",
   "mimetype": "text/x-python",
   "name": "python",
   "nbconvert_exporter": "python",
   "pygments_lexer": "ipython3",
   "version": "3.8.8"
  }
 },
 "nbformat": 4,
 "nbformat_minor": 5
}
